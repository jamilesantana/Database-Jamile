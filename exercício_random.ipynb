{
  "nbformat": 4,
  "nbformat_minor": 0,
  "metadata": {
    "colab": {
      "name": "random.ipynb",
      "provenance": [],
      "collapsed_sections": [
        "w-_Zj267BElx",
        "JWEe4t9gmjpc",
        "3tQ4TEi6uDWE",
        "wlQQ7jXu9X8-",
        "T2aX_1uJ-fGX"
      ]
    },
    "kernelspec": {
      "name": "python3",
      "display_name": "Python 3"
    },
    "language_info": {
      "name": "python"
    }
  },
  "cells": [
    {
      "cell_type": "markdown",
      "metadata": {
        "id": "UIy5oYamwihv"
      },
      "source": [
        "#Biblioteca **Random**\n",
        "*Grupo 6*: Amanda, Isabela, Jamile, Sara e Tode"
      ]
    },
    {
      "cell_type": "code",
      "metadata": {
        "id": "vuqOVw-dSSck"
      },
      "source": [
        ""
      ],
      "execution_count": null,
      "outputs": []
    },
    {
      "cell_type": "markdown",
      "metadata": {
        "id": "-vwTQgOvb0M8"
      },
      "source": [
        "# **Random**\n",
        "Essa biblioteca oferece métodos para gerar números aleatórios, embaralhar listas e sortear item de sequências.\n",
        "\n",
        "Pode ser uma distribuição de sequencia de nomes ou números, ou obtenção de uma amostra aleatória da sua base.\n",
        "\n",
        "É uma ferramenta muito usada em análises estatísticas.\n",
        "\n",
        "Serve para fazer previsões de probabilidade e simular eventos aleatórios, por exemplo."
      ]
    },
    {
      "cell_type": "code",
      "metadata": {
        "id": "8lIwIzD6o94-"
      },
      "source": [
        "import random"
      ],
      "execution_count": null,
      "outputs": []
    },
    {
      "cell_type": "markdown",
      "metadata": {
        "id": "w-_Zj267BElx"
      },
      "source": [
        "## Tode  **random.shuffle**\n",
        "\n",
        "###Sorteando a ordem de uma lista\n"
      ]
    },
    {
      "cell_type": "code",
      "metadata": {
        "id": "Xvk6TlV8AurR",
        "colab": {
          "base_uri": "https://localhost:8080/"
        },
        "outputId": "fe32a74d-fc53-4556-f7c6-e801c75e6c2f"
      },
      "source": [
        "grupo = ['Isa','Jamile','Sara','Amanda'] #define grupo como uma lista de strings\n",
        "\n",
        "random.shuffle(grupo) #sorteia a lista 'grupo'\n",
        "\n",
        "participante1 = grupo[0] # define a variável participante1 como primeiro item da lista sorteada\n",
        "participante2 = grupo[1] # define a variável participante2 como segundo item da lista sorteada\n",
        "participante3 = grupo[2] # define a variável participante3 como terceiro item da lista sorteada\n",
        "participante4 = grupo[3] # define a variável participante3 como terceiro item da lista sorteada\n",
        "\n",
        "print(f\"{participante1} foi a primeira sorteada\") #exibe participante1\n",
        "print(f\"{participante2} foi a segunda sorteada\") #exibe participante2\n",
        "print(f\"{participante3} foi a terceira sorteada\") #exibe participante3\n",
        "print(f\"{participante3} foi a quarta sorteada\") #exibe participante3\n",
        "\n",
        "print(\"\") # cria uma quebra de linha\n",
        "\n",
        "print(f\"{grupo}\") #exibe a lista completa sorteada"
      ],
      "execution_count": null,
      "outputs": [
        {
          "output_type": "stream",
          "name": "stdout",
          "text": [
            "Amanda foi a primeira sorteada\n",
            "Sara foi a segunda sorteada\n",
            "Isa foi a terceira sorteada\n",
            "Isa foi a quarta sorteada\n",
            "\n",
            "['Amanda', 'Sara', 'Isa', 'Jamile']\n"
          ]
        }
      ]
    },
    {
      "cell_type": "markdown",
      "metadata": {
        "id": "M10GcA9TTXsj"
      },
      "source": [
        "##Amanda **random.sample**"
      ]
    },
    {
      "cell_type": "code",
      "metadata": {
        "id": "oIQNDj9cT48-",
        "colab": {
          "base_uri": "https://localhost:8080/"
        },
        "outputId": "1b27f287-47d5-4b0f-a777-65a6866e88f6"
      },
      "source": [
        "amostra = list(range(0, 100)) #define \"amostra\" como uma lista de números entre 0 e 100\n",
        "\n",
        "random.sample(amostra, 5) #seleciona 5 números únicos da sequência \"amostra\"\n"
      ],
      "execution_count": null,
      "outputs": [
        {
          "output_type": "execute_result",
          "data": {
            "text/plain": [
              "[23, 49, 95, 24, 22]"
            ]
          },
          "metadata": {},
          "execution_count": 102
        }
      ]
    },
    {
      "cell_type": "markdown",
      "metadata": {
        "id": "Pml1Oc3eXxjO"
      },
      "source": [
        "No exemplo acima, é definida uma sequência de números entre 0 e 100. A função random.sample seleciona a quantidade solicitada de variáveis únicas de forma aleatória e que não são substituídas da sequência inicial."
      ]
    },
    {
      "cell_type": "code",
      "metadata": {
        "id": "ljHP-RDFYCm5",
        "colab": {
          "base_uri": "https://localhost:8080/",
          "height": 346
        },
        "outputId": "970ed9ff-bd9f-4344-e410-459de6e73072"
      },
      "source": [
        "amostra = list(range(0,100)) #cria uma sequência de números únicos entre 0 e 100\n",
        "\n",
        "random.sample(amostra, 101) #solicita amostra maior do que a sequência criada. \n",
        "\n",
        "#O resultado é um erro, mostrando que a amostra é maior que a população"
      ],
      "execution_count": null,
      "outputs": [
        {
          "output_type": "error",
          "ename": "ValueError",
          "evalue": "ignored",
          "traceback": [
            "\u001b[0;31m---------------------------------------------------------------------------\u001b[0m",
            "\u001b[0;31mValueError\u001b[0m                                Traceback (most recent call last)",
            "\u001b[0;32m<ipython-input-105-4e3bb19e5630>\u001b[0m in \u001b[0;36m<module>\u001b[0;34m()\u001b[0m\n\u001b[1;32m      1\u001b[0m \u001b[0mamostra\u001b[0m \u001b[0;34m=\u001b[0m \u001b[0mlist\u001b[0m\u001b[0;34m(\u001b[0m\u001b[0mrange\u001b[0m\u001b[0;34m(\u001b[0m\u001b[0;36m0\u001b[0m\u001b[0;34m,\u001b[0m\u001b[0;36m100\u001b[0m\u001b[0;34m)\u001b[0m\u001b[0;34m)\u001b[0m \u001b[0;31m#cria uma sequência de números únicos entre 0 e 100\u001b[0m\u001b[0;34m\u001b[0m\u001b[0;34m\u001b[0m\u001b[0m\n\u001b[1;32m      2\u001b[0m \u001b[0;34m\u001b[0m\u001b[0m\n\u001b[0;32m----> 3\u001b[0;31m \u001b[0mrandom\u001b[0m\u001b[0;34m.\u001b[0m\u001b[0msample\u001b[0m\u001b[0;34m(\u001b[0m\u001b[0mamostra\u001b[0m\u001b[0;34m,\u001b[0m \u001b[0;36m101\u001b[0m\u001b[0;34m)\u001b[0m \u001b[0;31m#solicita amostra maior do que a sequência criada.\u001b[0m\u001b[0;34m\u001b[0m\u001b[0;34m\u001b[0m\u001b[0m\n\u001b[0m\u001b[1;32m      4\u001b[0m \u001b[0;34m\u001b[0m\u001b[0m\n\u001b[1;32m      5\u001b[0m \u001b[0;31m#O resultado é um erro, mostrando que a amostra é maior que a população\u001b[0m\u001b[0;34m\u001b[0m\u001b[0;34m\u001b[0m\u001b[0;34m\u001b[0m\u001b[0m\n",
            "\u001b[0;32m/usr/lib/python3.7/random.py\u001b[0m in \u001b[0;36msample\u001b[0;34m(self, population, k)\u001b[0m\n\u001b[1;32m    319\u001b[0m         \u001b[0mn\u001b[0m \u001b[0;34m=\u001b[0m \u001b[0mlen\u001b[0m\u001b[0;34m(\u001b[0m\u001b[0mpopulation\u001b[0m\u001b[0;34m)\u001b[0m\u001b[0;34m\u001b[0m\u001b[0;34m\u001b[0m\u001b[0m\n\u001b[1;32m    320\u001b[0m         \u001b[0;32mif\u001b[0m \u001b[0;32mnot\u001b[0m \u001b[0;36m0\u001b[0m \u001b[0;34m<=\u001b[0m \u001b[0mk\u001b[0m \u001b[0;34m<=\u001b[0m \u001b[0mn\u001b[0m\u001b[0;34m:\u001b[0m\u001b[0;34m\u001b[0m\u001b[0;34m\u001b[0m\u001b[0m\n\u001b[0;32m--> 321\u001b[0;31m             \u001b[0;32mraise\u001b[0m \u001b[0mValueError\u001b[0m\u001b[0;34m(\u001b[0m\u001b[0;34m\"Sample larger than population or is negative\"\u001b[0m\u001b[0;34m)\u001b[0m\u001b[0;34m\u001b[0m\u001b[0;34m\u001b[0m\u001b[0m\n\u001b[0m\u001b[1;32m    322\u001b[0m         \u001b[0mresult\u001b[0m \u001b[0;34m=\u001b[0m \u001b[0;34m[\u001b[0m\u001b[0;32mNone\u001b[0m\u001b[0;34m]\u001b[0m \u001b[0;34m*\u001b[0m \u001b[0mk\u001b[0m\u001b[0;34m\u001b[0m\u001b[0;34m\u001b[0m\u001b[0m\n\u001b[1;32m    323\u001b[0m         \u001b[0msetsize\u001b[0m \u001b[0;34m=\u001b[0m \u001b[0;36m21\u001b[0m        \u001b[0;31m# size of a small set minus size of an empty list\u001b[0m\u001b[0;34m\u001b[0m\u001b[0;34m\u001b[0m\u001b[0m\n",
            "\u001b[0;31mValueError\u001b[0m: Sample larger than population or is negative"
          ]
        }
      ]
    },
    {
      "cell_type": "markdown",
      "metadata": {
        "id": "JWEe4t9gmjpc"
      },
      "source": [
        "##Sara **random.random**, **random.uniform** e **ramdom.randit**\n"
      ]
    },
    {
      "cell_type": "markdown",
      "metadata": {
        "id": "1aOpaShaBWK1"
      },
      "source": [
        "*   Esta função permite gerar valores sempre entre 0.0 a 1.0\n",
        "*   Também é possível fazer cálculo para obter números acima de 1.0\n"
      ]
    },
    {
      "cell_type": "markdown",
      "metadata": {
        "id": "Z5JhLleaE0EZ"
      },
      "source": [
        "**random.random**"
      ]
    },
    {
      "cell_type": "code",
      "metadata": {
        "id": "xwkMAp5CpnQz",
        "colab": {
          "base_uri": "https://localhost:8080/"
        },
        "outputId": "e8e92348-7b29-41c8-a496-26afb89f1a7d"
      },
      "source": [
        "print(random.random())  #valor float entre 0 e 1\n",
        "\n",
        "print(random.random()*10) #valor float entre 0 e 10\n",
        "\n",
        "print(random.random()*100) #valor float entre 0 e 100"
      ],
      "execution_count": null,
      "outputs": [
        {
          "output_type": "stream",
          "name": "stdout",
          "text": [
            "0.6497415019182963\n",
            "4.466996114807955\n",
            "5.5824967414976445\n"
          ]
        }
      ]
    },
    {
      "cell_type": "code",
      "metadata": {
        "id": "REtsIWtbFPup"
      },
      "source": [
        ""
      ],
      "execution_count": null,
      "outputs": []
    },
    {
      "cell_type": "markdown",
      "metadata": {
        "id": "iqd_1QWdDNHx"
      },
      "source": [
        "*   Se você quiser números inteiros pode  usar \"**math.ceil**\" (arredondar pra cima)"
      ]
    },
    {
      "cell_type": "code",
      "metadata": {
        "id": "W7e2AMuiDKlt",
        "colab": {
          "base_uri": "https://localhost:8080/"
        },
        "outputId": "6d986796-1828-484f-bc6b-a5ffa18b6a9a"
      },
      "source": [
        "import math \n",
        "\n",
        "print(math.ceil(10 * random.random())) #valor inteiro arredondado"
      ],
      "execution_count": null,
      "outputs": [
        {
          "output_type": "stream",
          "name": "stdout",
          "text": [
            "8\n"
          ]
        }
      ]
    },
    {
      "cell_type": "markdown",
      "metadata": {
        "id": "dV0eRkC5BhMY"
      },
      "source": [
        "**random.uniform** e **ramdom.randit**\n",
        "\n",
        "*   Para obter valores **float** entre o mínimo e o máximo\n",
        "*   Para obter valores **inteiros** entre o mínimo e o máximo"
      ]
    },
    {
      "cell_type": "code",
      "metadata": {
        "id": "igSnEo7ap-Fx",
        "colab": {
          "base_uri": "https://localhost:8080/"
        },
        "outputId": "c39fc1e6-ed74-4da9-b3a1-fcd9806f940b"
      },
      "source": [
        "print(random.uniform(0,7)) #valores float do mínimo ao máximo\n",
        "\n",
        "print(random.randint(50,100)) #valores int do mínimo ao máximo"
      ],
      "execution_count": null,
      "outputs": [
        {
          "output_type": "stream",
          "name": "stdout",
          "text": [
            "4.182040320993989\n",
            "60\n"
          ]
        }
      ]
    },
    {
      "cell_type": "markdown",
      "metadata": {
        "id": "wlQQ7jXu9X8-"
      },
      "source": [
        "## Isa **random.choices**"
      ]
    },
    {
      "cell_type": "code",
      "metadata": {
        "id": "tkjRY8M9qNbN",
        "colab": {
          "base_uri": "https://localhost:8080/"
        },
        "outputId": "7dec52dd-2df6-4bd1-e8cb-f8e2eddda5fe"
      },
      "source": [
        "Cores = ['Vermelho','Preto','Verde'] #Para simular 10 rodadas de um disco que gira com essas cores\n",
        "\n",
        "Resultados = random.choices(Cores, k=10) #Função para sequências\n",
        "\n",
        "print(Resultados)\n",
        "\n",
        "#Como a gente colocou k=10, ele retorna 10 resultados aleatórios"
      ],
      "execution_count": null,
      "outputs": [
        {
          "output_type": "stream",
          "name": "stdout",
          "text": [
            "['Vermelho', 'Verde', 'Vermelho', 'Vermelho', 'Vermelho', 'Verde', 'Preto', 'Preto', 'Preto', 'Vermelho']\n"
          ]
        }
      ]
    },
    {
      "cell_type": "markdown",
      "metadata": {
        "id": "JRlctbGojzAP"
      },
      "source": [
        "Da forma apresentada acima, cada cor tem a mesma chance de ser sorteada. Mas se por exemplo no disco eu tiver mais cores \"verde\" ou \"preto\", as chances aumentam de cair nessas cores. Então, eu posso \"pesar\" essa quantidade com o argumento \"weight\" para que o sorteio leve essas chances em consideração. "
      ]
    },
    {
      "cell_type": "code",
      "metadata": {
        "colab": {
          "base_uri": "https://localhost:8080/"
        },
        "id": "qnA6qQaOkUJH",
        "outputId": "103e3130-9bb6-40a2-9aa8-a7e3065ba3de"
      },
      "source": [
        "Cores = ['Vermelho','Preto','Verde']\n",
        "\n",
        "Resultados = random.choices(Cores, weights=[1,4,4], k=10) #o argumento de peso da chance será uma lista na ordem respectiva das cores que eu setei \n",
        "\n",
        "print(Resultados) #somando os pesos eu tenho 9, entao por exemplo vermelho tem 1/9 chances, preto tem 4/9"
      ],
      "execution_count": null,
      "outputs": [
        {
          "output_type": "stream",
          "name": "stdout",
          "text": [
            "['Preto', 'Verde', 'Preto', 'Verde', 'Preto', 'Vermelho', 'Preto', 'Vermelho', 'Preto', 'Verde']\n"
          ]
        }
      ]
    },
    {
      "cell_type": "markdown",
      "metadata": {
        "id": "T2aX_1uJ-fGX"
      },
      "source": [
        "##Jamile **Jogando Cara e Coroa**"
      ]
    },
    {
      "cell_type": "code",
      "metadata": {
        "id": "F2_HWp1rb4NM",
        "colab": {
          "base_uri": "https://localhost:8080/"
        },
        "outputId": "75630754-8131-4ce7-eaa0-257ebbac0d2e"
      },
      "source": [
        "import numpy as np #importa um gerador de números aleatórios\n",
        "\n",
        "np.random.seed(123) #seed, significa \"todas as vezes\", então aqui ele vai criar sempre os mesmos números dentro de um intervalo\n",
        "\n",
        "sorteio = []  #inicia uma lista vazia\n",
        "\n",
        "for x in range (10): #cria um loop de sorteio que deve ser executado dez vezes\n",
        "  coin = np.random.randint(0, 2)  #cria uma lista de valores aleatórios que podem ser gerados \n",
        "  if coin == 0: #cria a moeda cara\n",
        "    sorteio.append('cara')\n",
        "  else :\n",
        "    sorteio.append('coroa') #cria a moeda coroa\n",
        "\n",
        "print(sorteio)"
      ],
      "execution_count": null,
      "outputs": [
        {
          "output_type": "stream",
          "name": "stdout",
          "text": [
            "['cara', 'coroa', 'cara', 'cara', 'cara', 'cara', 'cara', 'coroa', 'coroa', 'cara']\n"
          ]
        }
      ]
    }
  ]
}